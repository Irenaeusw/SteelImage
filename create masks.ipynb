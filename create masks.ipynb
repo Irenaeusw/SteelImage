{
 "cells": [
  {
   "cell_type": "code",
   "execution_count": 1,
   "metadata": {},
   "outputs": [],
   "source": [
    "import os\n",
    "import cv2\n",
    "import numpy as np\n",
    "import pandas as pd\n",
    "import matplotlib.pyplot as plt\n",
    "import tensorflow as tf\n",
    "from tensorflow import keras\n",
    "from tensorflow.compat.v1 import ConfigProto\n",
    "from tensorflow.compat.v1 import InteractiveSession\n",
    "\n",
    "config = ConfigProto()\n",
    "config.gpu_options.allow_growth = True\n",
    "session = InteractiveSession(config=config)"
   ]
  },
  {
   "cell_type": "code",
   "execution_count": 2,
   "metadata": {},
   "outputs": [],
   "source": [
    "from tensorflow.keras.models import load_model"
   ]
  },
  {
   "cell_type": "code",
   "execution_count": 3,
   "metadata": {},
   "outputs": [],
   "source": [
    "#EDIT HERE\n",
    "model = load_model('C:\\\\Users\\\\kevin\\\\Desktop\\\\CMS\\\\Steel Image\\\\poisson.h5')"
   ]
  },
  {
   "cell_type": "code",
   "execution_count": 4,
   "metadata": {},
   "outputs": [
    {
     "data": {
      "text/plain": [
       "(60, 256, 256, 1)"
      ]
     },
     "execution_count": 4,
     "metadata": {},
     "output_type": "execute_result"
    }
   ],
   "source": [
    "dataset = []\n",
    "dataset_path = 'C:\\\\Users\\\\kevin\\\\Desktop\\\\CMS\\\\Steel Image\\\\sample dataset\\\\'\n",
    "for image in os.listdir(dataset_path):\n",
    "    img = cv2.imread(dataset_path+image, cv2.IMREAD_GRAYSCALE)\n",
    "    img = cv2.resize(img, (256,256))\n",
    "    dataset.append(img)\n",
    "\n",
    "dataset = np.array(dataset)\n",
    "dataset = dataset/255\n",
    "dataset = np.expand_dims(dataset, axis=-1)\n",
    "dataset.shape"
   ]
  },
  {
   "cell_type": "code",
   "execution_count": 5,
   "metadata": {},
   "outputs": [],
   "source": [
    "names = []\n",
    "for img_name in os.listdir(dataset_path):\n",
    "    names.append(img_name)\n",
    "\n",
    "#EDIT HERE    \n",
    "name_id = 0\n",
    "for loaded_image in dataset:\n",
    "    prediction = model.predict(np.expand_dims(loaded_image, axis=0))\n",
    "    prediction = np.squeeze(prediction[0]) * 255\n",
    "    prediction = prediction.astype('uint8')\n",
    "    prediction = cv2.resize(prediction, (1280, 960))\n",
    "    cv2.imwrite('C:\\\\Users\\\\kevin\\\\Desktop\\\\CMS\\\\Steel Image\\\\poisson results\\\\' + names[name_id], prediction)\n",
    "    name_id += 1"
   ]
  },
  {
   "cell_type": "code",
   "execution_count": 6,
   "metadata": {},
   "outputs": [
    {
     "data": {
      "text/plain": [
       "['20_AR_Long_1000x.jpg',\n",
       " '20_AR_Long_100x.jpg',\n",
       " '20_AR_Long_400x.jpg',\n",
       " '20_H1_Long_100x.jpg',\n",
       " '20_H1_Long_400x.jpg',\n",
       " '20_H2_Long_1000x.jpg',\n",
       " '20_H2_Long_100x.jpg',\n",
       " '20_H2_Long_400x.jpg',\n",
       " '20_H3_Long_1000x.jpg',\n",
       " '20_H3_Long_100x.jpg',\n",
       " '20_H3_Long_400x.jpg',\n",
       " '21_AR_Long_1000x.jpg',\n",
       " '21_AR_Long_100x.jpg',\n",
       " '21_AR_Long_400x.jpg',\n",
       " '21_H1_Long_1000x.jpg',\n",
       " '21_H1_Long_100x.jpg',\n",
       " '21_H1_Long_400x.jpg',\n",
       " '21_H2_Long_1000x.jpg',\n",
       " '21_H2_Long_100x.jpg',\n",
       " '21_H2_Long_400x.jpg',\n",
       " '22_AR_Long_1000x.jpg',\n",
       " '22_AR_Long_100x.jpg',\n",
       " '22_AR_Long_400x.jpg',\n",
       " '22_H1_Long_1000x.jpg',\n",
       " '22_H1_Long_100x.jpg',\n",
       " '22_H1_Long_400x.jpg',\n",
       " '22_H2_Long_1000x.jpg',\n",
       " '22_H2_Long_100x.jpg',\n",
       " '22_H2_Long_400x.jpg',\n",
       " '23_AR_Long_1000x.jpg',\n",
       " '23_AR_Long_100x.jpg',\n",
       " '23_AR_Long_400x.jpg',\n",
       " '23_H1_Long_1000x.jpg',\n",
       " '23_H1_Long_100x.jpg',\n",
       " '23_H1_Long_400x.jpg',\n",
       " '23_H2_Long_1000x.jpg',\n",
       " '23_H2_Long_100x.jpg',\n",
       " '23_H2_Long_400x.jpg',\n",
       " '24_AR_Long_1000x.jpg',\n",
       " '24_AR_Long_100x.jpg',\n",
       " '24_AR_Long_400x.jpg',\n",
       " '24_H1_Long_1000x.jpg',\n",
       " '24_H1_Long_100x.jpg',\n",
       " '24_H1_Long_400x.jpg',\n",
       " '24_H2_Long_100x.jpg',\n",
       " '24_H2_Long_400x.jpg',\n",
       " '24_H3_Long_100x.jpg',\n",
       " '24_H3_Long_400x.jpg',\n",
       " '25_AR_Long_1000x.jpg',\n",
       " '25_AR_Long_100x.jpg',\n",
       " '25_AR_Long_400x.jpg',\n",
       " '25_H1_Long_1000x.jpg',\n",
       " '25_H1_Long_100x.jpg',\n",
       " '25_H1_Long_400x.jpg',\n",
       " '25_H2_Long_1000x.jpg',\n",
       " '25_H2_Long_100x.jpg',\n",
       " '25_H2_Long_400x.jpg',\n",
       " '25_H3_Long_1000x.jpg',\n",
       " '25_H3_Long_100x.jpg',\n",
       " '25_H3_Long_400x.jpg']"
      ]
     },
     "execution_count": 6,
     "metadata": {},
     "output_type": "execute_result"
    }
   ],
   "source": [
    "names"
   ]
  },
  {
   "cell_type": "code",
   "execution_count": null,
   "metadata": {},
   "outputs": [],
   "source": []
  }
 ],
 "metadata": {
  "kernelspec": {
   "display_name": "Python 3",
   "language": "python",
   "name": "python3"
  },
  "language_info": {
   "codemirror_mode": {
    "name": "ipython",
    "version": 3
   },
   "file_extension": ".py",
   "mimetype": "text/x-python",
   "name": "python",
   "nbconvert_exporter": "python",
   "pygments_lexer": "ipython3",
   "version": "3.7.6"
  },
  "toc": {
   "base_numbering": 1,
   "nav_menu": {},
   "number_sections": true,
   "sideBar": true,
   "skip_h1_title": false,
   "title_cell": "Table of Contents",
   "title_sidebar": "Contents",
   "toc_cell": false,
   "toc_position": {},
   "toc_section_display": true,
   "toc_window_display": false
  },
  "varInspector": {
   "cols": {
    "lenName": 16,
    "lenType": 16,
    "lenVar": 40
   },
   "kernels_config": {
    "python": {
     "delete_cmd_postfix": "",
     "delete_cmd_prefix": "del ",
     "library": "var_list.py",
     "varRefreshCmd": "print(var_dic_list())"
    },
    "r": {
     "delete_cmd_postfix": ") ",
     "delete_cmd_prefix": "rm(",
     "library": "var_list.r",
     "varRefreshCmd": "cat(var_dic_list()) "
    }
   },
   "types_to_exclude": [
    "module",
    "function",
    "builtin_function_or_method",
    "instance",
    "_Feature"
   ],
   "window_display": false
  }
 },
 "nbformat": 4,
 "nbformat_minor": 4
}
